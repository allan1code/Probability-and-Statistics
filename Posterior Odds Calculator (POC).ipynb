{
 "cells": [
  {
   "cell_type": "code",
   "execution_count": null,
   "metadata": {},
   "outputs": [],
   "source": [
    "def posterior_odds(likelihood_ratio, prior_odds):\n",
    "    \"\"\"\n",
    "    Calculate the posterior odds.\n",
    "\n",
    "    Parameters:\n",
    "    likelihood_ratio (float): Likelihood ratio.\n",
    "    prior_odds (float): Prior odds.\n",
    "\n",
    "    Returns:\n",
    "    float: Posterior odds.\n",
    "    \"\"\"\n",
    "    return likelihood_ratio * prior_odds\n",
    "\n",
    "def main():\n",
    "    print(\"Posterior Probability Calculator\")\n",
    "    try:\n",
    "        likelihood_ratio = float(input(\"Enter the likelihood ratio: \"))\n",
    "        prior_odds = float(input(\"Enter the prior odds: \"))\n",
    "        posterior = posterior_odds(likelihood_ratio, prior_odds)\n",
    "        print(f\"Posterior odds: {posterior}\")\n",
    "    except ValueError:\n",
    "        print(\"Please enter valid numerical values.\")\n",
    "\n",
    "if __name__ == \"__main__\":\n",
    "    main()"
   ]
  },
  {
   "attachments": {},
   "cell_type": "markdown",
   "metadata": {},
   "source": [
    "# Using Python \n",
    "\n",
    " Sets and instructions on how to use Python are available at [python.org.](python.org.)"
   ]
  }
 ],
 "metadata": {
  "kernelspec": {
   "display_name": "your_env_name",
   "language": "python",
   "name": "python3"
  },
  "language_info": {
   "codemirror_mode": {
    "name": "ipython",
    "version": 3
   },
   "file_extension": ".py",
   "mimetype": "text/x-python",
   "name": "python",
   "nbconvert_exporter": "python",
   "pygments_lexer": "ipython3",
   "version": "3.9.19"
  },
  "orig_nbformat": 4
 },
 "nbformat": 4,
 "nbformat_minor": 2
}
